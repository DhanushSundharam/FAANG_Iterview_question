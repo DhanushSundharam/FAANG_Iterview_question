{
 "cells": [
  {
   "cell_type": "code",
   "execution_count": 2,
   "id": "01d3363d-e144-4945-bf40-43ef35ccafc0",
   "metadata": {},
   "outputs": [],
   "source": [
    "def Binary_search(arr,target):\n",
    "    start = 0\n",
    "    end = len(arr)-1\n",
    "    \n",
    "    while start <= end:\n",
    "        mid = (start+end)//2\n",
    "        ## Check if the traget element equals to mid element return mid value\n",
    "        if target == arr[mid]:\n",
    "            return f\"Element is Found {mid}\"\n",
    "        ## if target element greater than mid it will check right side of array    \n",
    "        elif target > arr[mid]:\n",
    "            start = mid+1\n",
    "            #print(start)\n",
    "        ## if target element less than mid it will check left side of array    \n",
    "        elif target < arr[mid]:\n",
    "            end = mid-1\n",
    "            #print(end)\n",
    "    return f\"Element is Found -1\""
   ]
  },
  {
   "cell_type": "code",
   "execution_count": 3,
   "id": "3ac4e141-4d36-4e71-9543-6a3946540089",
   "metadata": {},
   "outputs": [
    {
     "data": {
      "text/plain": [
       "'Element is Found 5'"
      ]
     },
     "execution_count": 3,
     "metadata": {},
     "output_type": "execute_result"
    }
   ],
   "source": [
    "arr = [10,20,30,40,50,60,70,80,90,100]\n",
    "Binary_search(arr,60)"
   ]
  },
  {
   "cell_type": "markdown",
   "id": "1a674cb6-7908-402a-a852-da0e6e20cb71",
   "metadata": {},
   "source": [
    "## Binary search using if the Array is Acsending or Descending can you explain that"
   ]
  },
  {
   "cell_type": "code",
   "execution_count": 13,
   "id": "bbf1b0ae-b00f-45f0-8e9c-28786e21389b",
   "metadata": {},
   "outputs": [],
   "source": [
    "def Binary_Search(arr,target):\n",
    "    start = 0\n",
    "    end = len(arr)-1\n",
    "    mid = (start+end) // 2\n",
    "    isascen = arr[start]  < arr[end]\n",
    "\n",
    "    while start <= end :\n",
    "     if target == arr[start] :\n",
    "         return target\n",
    "        \n",
    "\n",
    "     if isascen:   \n",
    "            if target > arr[mid]:\n",
    "                start = mid+1\n",
    "           \n",
    "            else:\n",
    "                end = mid-1\n",
    "     else:\n",
    "        if target > arr[mid]:\n",
    "            start = mid+1\n",
    "       \n",
    "        else:\n",
    "            end = mid-1"
   ]
  },
  {
   "cell_type": "code",
   "execution_count": 19,
   "id": "a8627054-50f8-4c4a-b96b-f6b407b3b851",
   "metadata": {},
   "outputs": [
    {
     "ename": "SyntaxError",
     "evalue": "invalid syntax (198585483.py, line 3)",
     "output_type": "error",
     "traceback": [
      "\u001b[1;36m  Cell \u001b[1;32mIn[19], line 3\u001b[1;36m\u001b[0m\n\u001b[1;33m    x=arr.sort_values(ascending=False)\u001b[0m\n\u001b[1;37m    ^\u001b[0m\n\u001b[1;31mSyntaxError\u001b[0m\u001b[1;31m:\u001b[0m invalid syntax\n"
     ]
    }
   ],
   "source": [
    "import pandas as pd\n",
    "arr = pd.Series([10,20,30,40,50,60,70,80,90,100]\n",
    "x=arr.sort_values(ascending=False)\n",
    "Binary_Search(x,60)"
   ]
  }
 ],
 "metadata": {
  "kernelspec": {
   "display_name": "Python 3 (ipykernel)",
   "language": "python",
   "name": "python3"
  },
  "language_info": {
   "codemirror_mode": {
    "name": "ipython",
    "version": 3
   },
   "file_extension": ".py",
   "mimetype": "text/x-python",
   "name": "python",
   "nbconvert_exporter": "python",
   "pygments_lexer": "ipython3",
   "version": "3.8.0"
  }
 },
 "nbformat": 4,
 "nbformat_minor": 5
}
