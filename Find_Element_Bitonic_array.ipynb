{
 "cells": [
  {
   "cell_type": "code",
   "execution_count": 1,
   "id": "8ec541d7-04f2-41ce-b787-fb0672529a7e",
   "metadata": {},
   "outputs": [],
   "source": [
    "def findIndexpeak(arr):\n",
    "    start = 0\n",
    "    end = len(arr)-1\n",
    "    \n",
    "\n",
    "    while start < end :\n",
    "      mid = (start + end )//2\n",
    "      if arr[mid] > arr[mid + 1] :\n",
    "           end = mid\n",
    "      else :\n",
    "            start = mid + 1\n",
    "    return start        \n"
   ]
  },
  {
   "cell_type": "code",
   "execution_count": 18,
   "id": "709d4f87-beac-4e3f-b3c3-dbb6a4527489",
   "metadata": {},
   "outputs": [],
   "source": [
    "def search(arr,target,start,end):\n",
    "    isascend = arr[start] < arr[end]\n",
    "    while start <=  end:\n",
    "      mid = (start + end)//2\n",
    "      if target == arr[mid]:\n",
    "          return mid\n",
    "      if (isascend):    \n",
    "          if target > arr[mid]:\n",
    "              start = mid + 1\n",
    "          else:\n",
    "              end = mid - 1\n",
    "      else:\n",
    "          if target < arr[mid]:\n",
    "              start = mid + 1\n",
    "          else:\n",
    "              end = mid - 1\n",
    "\n",
    "    \n",
    "      \n",
    "    return -1       "
   ]
  },
  {
   "cell_type": "code",
   "execution_count": 24,
   "id": "ac01127f-beea-4872-a495-ab1e41c17118",
   "metadata": {},
   "outputs": [],
   "source": [
    "arr = [1,2,3,5,3,2,1]\n",
    "peak = findIndexpeak(arr)\n",
    "def findeleinBio(arr, peak):\n",
    "       \n",
    "        isneg = search(arr,3,0,peak-1)\n",
    "        if isneg != -1 :\n",
    "            return isneg\n",
    "        return search(arr,3,peak+1,len(arr)-1)    \n"
   ]
  },
  {
   "cell_type": "code",
   "execution_count": 25,
   "id": "be6f2e04-4559-4cef-b828-c1ae88edeb7b",
   "metadata": {},
   "outputs": [
    {
     "name": "stdout",
     "output_type": "stream",
     "text": [
      "2\n"
     ]
    }
   ],
   "source": [
    "print(findeleinBio(arr,peak))"
   ]
  }
 ],
 "metadata": {
  "kernelspec": {
   "display_name": "Python 3 (ipykernel)",
   "language": "python",
   "name": "python3"
  },
  "language_info": {
   "codemirror_mode": {
    "name": "ipython",
    "version": 3
   },
   "file_extension": ".py",
   "mimetype": "text/x-python",
   "name": "python",
   "nbconvert_exporter": "python",
   "pygments_lexer": "ipython3",
   "version": "3.8.0"
  }
 },
 "nbformat": 4,
 "nbformat_minor": 5
}
